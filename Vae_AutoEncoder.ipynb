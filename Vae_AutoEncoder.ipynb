{
  "nbformat": 4,
  "nbformat_minor": 0,
  "metadata": {
    "colab": {
      "name": "Vae AutoEncoder.ipynb",
      "provenance": [],
      "collapsed_sections": []
    },
    "kernelspec": {
      "name": "python3",
      "display_name": "Python 3"
    },
    "language_info": {
      "name": "python"
    },
    "accelerator": "GPU"
  },
  "cells": [
    {
      "cell_type": "code",
      "source": [
        "import tensorflow as tf\n",
        "from keras.layers import Dense,Conv2D,Conv2DTranspose,Input,BatchNormalization,MaxPooling2D,Flatten,Reshape,LeakyReLU\n",
        "from keras.models import Model\n",
        "import numpy as np\n",
        "from tensorflow import keras\n",
        "from keras import backend as K\n",
        "import matplotlib.pyplot as plt"
      ],
      "metadata": {
        "id": "XNvP0pJDl_bM"
      },
      "execution_count": 74,
      "outputs": []
    },
    {
      "cell_type": "code",
      "source": [
        "(x_train, y_train), (x_test, y_test) = tf.keras.datasets.fashion_mnist.load_data()\n",
        "x_train = x_train.reshape(x_train.shape[0], 28, 28, 1).astype('float32')\n",
        "x_test = x_test.astype('float32')\n",
        "x_train = x_train / 255.\n",
        "x_test = x_test / 255.\n",
        "train_dataset = tf.data.Dataset.from_tensor_slices(x_train).\\\n",
        "shuffle(60000).batch(128)"
      ],
      "metadata": {
        "id": "TWgd0NiYmObs"
      },
      "execution_count": 2,
      "outputs": []
    },
    {
      "cell_type": "code",
      "source": [
        "def encoder(shape):\n",
        "  inputs = Input(shape=shape)\n",
        "  x = Conv2D(3,(3,3),padding='same',activation='relu')(inputs)\n",
        "  x = BatchNormalization()(x)\n",
        "  x = LeakyReLU(0.001)(x)\n",
        "  x = MaxPooling2D()(x)\n",
        "  x = Conv2D(3,(3,3),padding='same',activation='relu')(x)\n",
        "  x = BatchNormalization()(x)\n",
        "  x = LeakyReLU(0.001)(x)\n",
        "  x = MaxPooling2D()(x)\n",
        "  x = Conv2D(3,(3,3),padding='same',activation='relu')(x)\n",
        "  x = BatchNormalization()(x)\n",
        "  x = LeakyReLU(0.001)(x)\n",
        "  x = MaxPooling2D()(x)\n",
        "  x = Flatten()(x)\n",
        "  mean = Dense(2)(x)\n",
        "  var = Dense(2)(x)\n",
        "  model = Model(inputs,[mean,var])\n",
        "  return model"
      ],
      "metadata": {
        "id": "0X35DXdTmgSQ"
      },
      "execution_count": 151,
      "outputs": []
    },
    {
      "cell_type": "code",
      "source": [
        "def decoder(shape):\n",
        "  inputs = Input(shape=shape)\n",
        "  x = Dense(49)(inputs)\n",
        "  x = Reshape((7,7,1))(x)\n",
        "  x = Conv2DTranspose(3,(3,3),strides=2,padding='same',activation='relu')(x)\n",
        "  x = BatchNormalization()(x)\n",
        "  x = LeakyReLU(0.001)(x)\n",
        "  x = Conv2DTranspose(1,(3,3),strides=2,padding='same',activation='relu')(x)\n",
        "  x = BatchNormalization()(x)\n",
        "  x = LeakyReLU(0.001)(x)\n",
        "  model = Model(inputs,x)\n",
        "  return model"
      ],
      "metadata": {
        "id": "Qad8n6mqnWgL"
      },
      "execution_count": 150,
      "outputs": []
    },
    {
      "cell_type": "code",
      "source": [
        "def sampling(mean,var):\n",
        "  batch = mean.shape[0]\n",
        "  dim = mean.shape[1]\n",
        "  epsilon = np.random.randn(batch,dim)\n",
        "  return mean + K.exp(0.5 *var) * epsilon"
      ],
      "metadata": {
        "id": "MCEfij2bpR_O"
      },
      "execution_count": 178,
      "outputs": []
    },
    {
      "cell_type": "code",
      "source": [
        "def AllLoss(images,reconImages,mean,var):\n",
        "  ReconstructionLoss = recon(images,reconImages)\n",
        "  similarityLoss = KLDiv(mean,var)\n",
        "  return 1000*ReconstructionLoss + similarityLoss\n",
        "\n",
        "def recon(images,reconImages):\n",
        "  return K.mean(K.square(images-reconImages),axis=[1,2,3]) #mse\n",
        "\n",
        "def KLDiv(mean,var):\n",
        "  return -0.5 * K.sum(1+var-K.square(mean)-K.exp(var),axis=1)"
      ],
      "metadata": {
        "id": "iVQNttIWsmTd"
      },
      "execution_count": 179,
      "outputs": []
    },
    {
      "cell_type": "code",
      "source": [
        "class Vae(keras.Model):\n",
        "  def __init__(self,encoder,decoder,**kwargs):\n",
        "    super(Vae, self).__init__(**kwargs)\n",
        "    self.encoder = encoder\n",
        "    self.decoder = decoder\n",
        "\n",
        "  "
      ],
      "metadata": {
        "id": "SuhQ_cIzxaqK"
      },
      "execution_count": 180,
      "outputs": []
    },
    {
      "cell_type": "code",
      "source": [
        "optimizers = tf.keras.optimizers.Adam(learning_rate = 0.0005)\n",
        "def train_step(data):\n",
        "    with tf.GradientTape() as tpenc , tf.GradientTape() as tpdec:\n",
        "      mean,var = encoders(data)\n",
        "      z = sampling(mean,var)\n",
        "      reconstruction = decoders(z)\n",
        "      totalLoss = AllLoss(data,reconstruction,mean,var)\n",
        "      encodergrads = tpenc.gradient(totalLoss,encoders.trainable_variables)\n",
        "      decodergrads = tpdec.gradient(totalLoss,decoders.trainable_variables)\n",
        "      optimizers.apply_gradients(zip(encodergrads,encoders.trainable_variables))\n",
        "      optimizers.apply_gradients(zip(decodergrads,decoders.trainable_variables))\n",
        "      return totalLoss"
      ],
      "metadata": {
        "id": "jFXK40-m0rFf"
      },
      "execution_count": 181,
      "outputs": []
    },
    {
      "cell_type": "code",
      "source": [
        "encoders = encoder((28,28,1))\n",
        "decoders = decoder((2))"
      ],
      "metadata": {
        "id": "d-WdiCs679yS"
      },
      "execution_count": 182,
      "outputs": []
    },
    {
      "cell_type": "code",
      "source": [
        "for epoch in range(10):\n",
        "  print(epoch)\n",
        "  for image_batch in train_dataset:\n",
        "    loss = train_step(image_batch)"
      ],
      "metadata": {
        "colab": {
          "base_uri": "https://localhost:8080/"
        },
        "id": "HfM-CPyl0xfn",
        "outputId": "a69b0342-7f23-431c-f3e3-dec205d868bf"
      },
      "execution_count": 190,
      "outputs": [
        {
          "output_type": "stream",
          "name": "stdout",
          "text": [
            "0\n",
            "1\n",
            "2\n",
            "3\n",
            "4\n",
            "5\n",
            "6\n",
            "7\n",
            "8\n",
            "9\n"
          ]
        }
      ]
    },
    {
      "cell_type": "code",
      "source": [
        "data = next(iter(train_dataset))"
      ],
      "metadata": {
        "id": "U3S04vZZ5wYp"
      },
      "execution_count": 209,
      "outputs": []
    },
    {
      "cell_type": "code",
      "source": [
        "plt.imshow(data[0,:,:,0],cmap='Greys')"
      ],
      "metadata": {
        "colab": {
          "base_uri": "https://localhost:8080/",
          "height": 284
        },
        "id": "iBiF9Wq4G3il",
        "outputId": "dd48381d-797f-4005-ae6f-82a35ab92924"
      },
      "execution_count": 210,
      "outputs": [
        {
          "output_type": "execute_result",
          "data": {
            "text/plain": [
              "<matplotlib.image.AxesImage at 0x7f5bfbf02210>"
            ]
          },
          "metadata": {},
          "execution_count": 210
        },
        {
          "output_type": "display_data",
          "data": {
            "image/png": "[encoded data removed]",
            "text/plain": [
              "<Figure size 432x288 with 1 Axes>"
            ]
          },
          "metadata": {
            "needs_background": "light"
          }
        }
      ]
    },
    {
      "cell_type": "code",
      "source": [
        "mean,var = encoders(data)"
      ],
      "metadata": {
        "id": "2-fPZxSdJBjk"
      },
      "execution_count": 211,
      "outputs": []
    },
    {
      "cell_type": "code",
      "source": [
        "z = sampling(mean,var)"
      ],
      "metadata": {
        "id": "XkckatpyHXBq"
      },
      "execution_count": 212,
      "outputs": []
    },
    {
      "cell_type": "code",
      "source": [
        "kon = decoders(z)"
      ],
      "metadata": {
        "id": "9I6LdLo8JKUG"
      },
      "execution_count": 213,
      "outputs": []
    },
    {
      "cell_type": "code",
      "source": [
        "plt.imshow(kon[0,:,:,0],cmap='Greys')"
      ],
      "metadata": {
        "colab": {
          "base_uri": "https://localhost:8080/",
          "height": 284
        },
        "id": "ZdmDTIg6Kb55",
        "outputId": "c32abc7b-cd08-46b3-98c0-81eb7340770c"
      },
      "execution_count": 214,
      "outputs": [
        {
          "output_type": "execute_result",
          "data": {
            "text/plain": [
              "<matplotlib.image.AxesImage at 0x7f5c05e49050>"
            ]
          },
          "metadata": {},
          "execution_count": 214
        },
        {
          "output_type": "display_data",
          "data": {
            "image/png": "[encoded data removed]",
            "text/plain": [
              "<Figure size 432x288 with 1 Axes>"
            ]
          },
          "metadata": {
            "needs_background": "light"
          }
        }
      ]
    }
  ]
}